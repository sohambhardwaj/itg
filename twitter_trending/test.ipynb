{
 "cells": [
  {
   "cell_type": "code",
   "execution_count": 1,
   "source": [
    "# A1\n",
    "a = 10\n",
    "b = 20\n",
    "c = a+b\n",
    "print(c)\n"
   ],
   "outputs": [
    {
     "output_type": "stream",
     "name": "stdout",
     "text": [
      "30\n"
     ]
    }
   ],
   "metadata": {}
  },
  {
   "cell_type": "code",
   "execution_count": 4,
   "source": [
    "# A2\n",
    "a = 10\n",
    "if(a % 2 == 0):\n",
    "    print(' {} is even'.format(a))\n",
    "else:\n",
    "    print(' {} is Odd'.format(b))\n"
   ],
   "outputs": [
    {
     "output_type": "stream",
     "name": "stdout",
     "text": [
      " 10 is even\n"
     ]
    }
   ],
   "metadata": {}
  },
  {
   "cell_type": "code",
   "execution_count": 5,
   "source": [
    "# A3\n",
    "def checkEven(num):\n",
    "    if(num % 2 == 0):\n",
    "        return True\n",
    "    else:\n",
    "        return False\n",
    "\n",
    "\n",
    "print(checkEven(11))\n"
   ],
   "outputs": [
    {
     "output_type": "stream",
     "name": "stdout",
     "text": [
      "False\n"
     ]
    }
   ],
   "metadata": {}
  },
  {
   "cell_type": "code",
   "execution_count": 6,
   "source": [
    "# A4\n",
    "d = {'a': 1, 'b': 2, 'c': 3, 'd': 4} #dictionary with keys as 'a', 'b' ...\n",
    "print(d['b']+d['c'])\n"
   ],
   "outputs": [
    {
     "output_type": "stream",
     "name": "stdout",
     "text": [
      "5\n"
     ]
    }
   ],
   "metadata": {}
  },
  {
   "cell_type": "code",
   "execution_count": 12,
   "source": [
    "# A5\n",
    "import string\n",
    "s = 'a b c e '\n",
    "print(s.upper())\n",
    "t = s.split()\n",
    "print(t)\n",
    "a = '1'.join(s.split())\n",
    "print(a)\n",
    "b = s.replace(' ', '2')\n",
    "print(b)\n",
    "c=s.strip()\n",
    "print(c)\n",
    "d=string.ascii_lowercase\n",
    "e=string.ascii_uppercase\n",
    "print(d)\n",
    "print(e)\n",
    "f=s.partition('b')\n",
    "print(f)\n"
   ],
   "outputs": [
    {
     "output_type": "stream",
     "name": "stdout",
     "text": [
      "A B C E \n",
      "['a', 'b', 'c', 'e']\n",
      "a1b1c1e\n",
      "a2b2c2e2\n",
      "a b c e\n",
      "abcdefghijklmnopqrstuvwxyz\n",
      "ABCDEFGHIJKLMNOPQRSTUVWXYZ\n",
      "('a ', 'b', ' c e ')\n"
     ]
    }
   ],
   "metadata": {}
  }
 ],
 "metadata": {
  "kernelspec": {
   "name": "python3",
   "display_name": "Python 3.9.6 64-bit"
  },
  "language_info": {
   "codemirror_mode": {
    "name": "ipython",
    "version": 3
   },
   "file_extension": ".py",
   "mimetype": "text/x-python",
   "name": "python",
   "nbconvert_exporter": "python",
   "pygments_lexer": "ipython3",
   "version": "3.9.6"
  },
  "interpreter": {
   "hash": "aee8b7b246df8f9039afb4144a1f6fd8d2ca17a180786b69acc140d282b71a49"
  }
 },
 "nbformat": 4,
 "nbformat_minor": 5
}